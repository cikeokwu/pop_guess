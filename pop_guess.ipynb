{
 "cells": [
  {
   "cell_type": "code",
   "execution_count": 109,
   "id": "0de552c3",
   "metadata": {},
   "outputs": [],
   "source": [
    "import numpy as np\n",
    "import pandas as pd\n",
    "import math\n",
    "import random"
   ]
  },
  {
   "cell_type": "code",
   "execution_count": 110,
   "id": "d0b361e6",
   "metadata": {},
   "outputs": [],
   "source": [
    "pop_data = pd.read_csv(\"pop_data.csv\")"
   ]
  },
  {
   "cell_type": "code",
   "execution_count": 111,
   "id": "365954e7",
   "metadata": {},
   "outputs": [],
   "source": [
    "def value_to_float(x):\n",
    "    x = x.upper()\n",
    "    if type(x) == float or type(x) == int:\n",
    "        return x\n",
    "    if 'K' in x or 'k' in x:\n",
    "        if len(x) > 1:\n",
    "            return float(x.replace('K', '')) * 1000\n",
    "        return 1000.0\n",
    "    if 'M' in x or 'm' in x:\n",
    "        if len(x) > 1:\n",
    "            return float(x.replace('M', '')) * 1000000\n",
    "        return 1000000.0\n",
    "    if 'B' in x or 'b' in x:\n",
    "        return float(x.replace('B', '')) * 1000000000\n",
    "    return float(x)"
   ]
  },
  {
   "cell_type": "code",
   "execution_count": 121,
   "id": "659c65bc",
   "metadata": {},
   "outputs": [],
   "source": [
    "def game_round(name, pop, players):    \n",
    "    pop_guess = [0]*len(players)\n",
    "    ou_guess = [0]*len(players)\n",
    "    for player in range(len(players)):\n",
    "        pop_guess[player] = value_to_float(input(f\"what does {players[player]} think the population of {name} is? \"))\n",
    "        ou_guess[player] = value_to_float(input(f\"does {players[player]} think they're under (0) or over (1)? \"))\n",
    "    \n",
    "    scores = [0]*len(players)\n",
    "    for player in range(len(players)):\n",
    "        pop_g = pop_guess[player]\n",
    "        ou_g = ou_guess[player]\n",
    "        if pop_g >= (pop - pop*0.1) and pop_g <= (pop + pop*0.1):\n",
    "            score = 0.1\n",
    "        else:\n",
    "            score = abs(pop_g-pop)/pop\n",
    "        if pop_g <= pop and ou_g == 0:\n",
    "            score -= 0.5\n",
    "        if pop_g >= pop and ou_g == 1:\n",
    "            score -= 0.5\n",
    "        scores[player] = score\n",
    "    \n",
    "    floor = abs(min(scores))\n",
    "    scores = [score + floor for score in scores]\n",
    "    avg_r = (sum(scores)/len(scores))**(-1)\n",
    "    points = [round(((score**(-1))*10)/avg_r) for score in scores]\n",
    "    return points"
   ]
  },
  {
   "cell_type": "code",
   "execution_count": 113,
   "id": "0b46ff90",
   "metadata": {},
   "outputs": [
    {
     "name": "stdout",
     "output_type": "stream",
     "text": [
      "Welcome to PoP GuEss 3.5! How many players? 2\n",
      "what is player 0's name: chris\n",
      "what is player 1's name: tiff\n"
     ]
    }
   ],
   "source": [
    "#Run this part only if you want to change the names and number of people playing\n",
    "num_players = int(input(\"Welcome to PoP GuEss 3.5! How many players? \"))\n",
    "players = [\"\"]*num_players\n",
    "for player in range(len(players)):\n",
    "    players[player] = input(f\"what is player {player}'s name: \")"
   ]
  },
  {
   "cell_type": "code",
   "execution_count": null,
   "id": "b9d78f51",
   "metadata": {},
   "outputs": [
    {
     "name": "stdout",
     "output_type": "stream",
     "text": [
      "Total points {'chris': 0, 'tiff': 0}\n",
      "what does chris think the population of  Mozambique is? 30m\n",
      "does chris think they're under (0) or over (1)? 1\n",
      "what does tiff think the population of  Mozambique is? 28m\n",
      "does tiff think they're under (0) or over (1)? 1\n",
      "The true population of  Mozambique is 31398811! chris wins this round!\n",
      "seed:49 \n",
      "\n",
      "Total points {'chris': 10, 'tiff': 10}\n",
      "what does chris think the population of  Tunisia is? 17m\n",
      "does chris think they're under (0) or over (1)? 0\n",
      "what does tiff think the population of  Tunisia is? 800m\n",
      "does tiff think they're under (0) or over (1)? 1\n",
      "The true population of  Tunisia is 11839918! chris wins this round!\n",
      "seed:97 \n",
      "\n",
      "Total points {'chris': 396, 'tiff': 15}\n"
     ]
    }
   ],
   "source": [
    "#Run this part to play an actual game\n",
    "num_rounds = 3 #change number of rounds to play\n",
    "\n",
    "scores = dict()\n",
    "for player in players:\n",
    "    scores[player] = 0\n",
    "\n",
    "random.seed(0)\n",
    "test_seed = None #change to the 'seed' you saw if you want to repeat a country\n",
    "\n",
    "for turn in range(num_rounds):\n",
    "    print(f\"Total points\", scores)\n",
    "    if test_seed is not None:\n",
    "        game_seed = test_seed\n",
    "    else:\n",
    "        game_seed = random.randint(0,100)\n",
    "    country = pop_data.sample(random_state=game_seed)\n",
    "    name, pop = country['Country (or dependency)'], country['Population (2020)']\n",
    "    name = str(name).split(\"\\n\")[0].split(\"   \")[1]\n",
    "    pop = int(str(pop).split(\"\\n\")[0].split(\"   \")[1])\n",
    "    \n",
    "    points = game_round(name, pop, players)\n",
    "    winner = \"\"\n",
    "    win_score = 0\n",
    "    for num in range(len(players)):\n",
    "        if points[num] > win_score:\n",
    "            winner = players[num]\n",
    "            win_score = points[num]\n",
    "        scores[players[num]] += points[num]\n",
    "    print(f\"The true population of {name} is {pop}! {winner} wins this round!\")\n",
    "    print(f\"seed:{game_seed} \\n\")\n",
    "    \n",
    "winner = \"\"\n",
    "win_score = 0\n",
    "          \n",
    "for player in players:\n",
    "    if scores[player] > win_score:\n",
    "        winner = player\n",
    "        win_score = scores[player]\n",
    "    \n",
    "print(f\"COngrats!!! {winner} is the pop guess champ :p\")\n",
    "print(\"Final points\", scores)"
   ]
  },
  {
   "cell_type": "code",
   "execution_count": null,
   "id": "803e1763",
   "metadata": {},
   "outputs": [],
   "source": []
  }
 ],
 "metadata": {
  "kernelspec": {
   "display_name": "Python 3",
   "language": "python",
   "name": "python3"
  },
  "language_info": {
   "codemirror_mode": {
    "name": "ipython",
    "version": 3
   },
   "file_extension": ".py",
   "mimetype": "text/x-python",
   "name": "python",
   "nbconvert_exporter": "python",
   "pygments_lexer": "ipython3",
   "version": "3.7.3"
  }
 },
 "nbformat": 4,
 "nbformat_minor": 5
}
